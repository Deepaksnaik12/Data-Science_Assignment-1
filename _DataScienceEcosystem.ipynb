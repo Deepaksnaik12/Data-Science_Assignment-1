{
 "cells": [
  {
   "cell_type": "markdown",
   "id": "f372235a-0d79-4280-ba87-cacc2abbd470",
   "metadata": {},
   "source": [
    "# Data Science Tools and Ecosystem"
   ]
  },
  {
   "cell_type": "markdown",
   "id": "596f6d00-28a6-4093-b068-38957f2f891c",
   "metadata": {},
   "source": [
    "In this notebook, Data Science Tools and Ecosystem are summarized."
   ]
  },
  {
   "cell_type": "code",
   "execution_count": null,
   "id": "23c4bdc1-0aec-46e3-81cb-845092ae9a08",
   "metadata": {},
   "outputs": [],
   "source": [
    "__Objective__:\n",
    "- List popular languages for Data Science\n",
    "- List commonly used libraries in Data Science\n",
    "- Open source tools for development environment\n",
    "- Writing code cell to multiply and add numbers\n",
    "- Writing code cell to convert minutes to hours"
   ]
  },
  {
   "cell_type": "markdown",
   "id": "bec1e4f4-c7a5-42bc-86f2-1b63f960f411",
   "metadata": {},
   "source": [
    "Some of the popular languages that Data Scientists use are:\n",
    "1. Python\n",
    "2.  Julia\n",
    "3.  R\n",
    "4.  Scala"
   ]
  },
  {
   "cell_type": "markdown",
   "id": "00a8f980-a359-4ed0-81f7-c347565f30ef",
   "metadata": {},
   "source": [
    "Some of the commonly used libraries used by Data Scientists include:\n",
    "1. Pandas\n",
    "2. Matplotlib\n",
    "3. Numpy"
   ]
  },
  {
   "cell_type": "markdown",
   "id": "527f1a0a-426d-4987-8c5d-17c96468d381",
   "metadata": {},
   "source": [
    "|Data Science Tools|\n",
    "|------------------|\n",
    "|Jupyter Notebook  |\n",
    "|R Studio          |\n",
    "|Spyder            |\n"
   ]
  },
  {
   "cell_type": "markdown",
   "id": "a0cbaa58-e32d-4647-86d1-4d036ddf13b6",
   "metadata": {},
   "source": [
    "### Below are a few examples of evaluating arithmetic expressions in Python"
   ]
  },
  {
   "cell_type": "code",
   "execution_count": 64,
   "id": "bce08b31-b274-42b4-9e3e-6e681699376a",
   "metadata": {},
   "outputs": [
    {
     "name": "stdout",
     "output_type": "stream",
     "text": [
      "17\n"
     ]
    }
   ],
   "source": [
    "#This a simple arithmetic expression to mutiply then add integers\n",
    "print ((3*4)+5)"
   ]
  },
  {
   "cell_type": "code",
   "execution_count": 49,
   "id": "da5fa556-b6d8-4032-b0f3-d89176cf295d",
   "metadata": {},
   "outputs": [
    {
     "name": "stdout",
     "output_type": "stream",
     "text": [
      "200 mins is equal to 3 hours and 20 mins.\n"
     ]
    }
   ],
   "source": [
    "#This will convert 200 minutes to hours by diving by 60.\n",
    "total_min=200\n",
    "hours= total_min // 60\n",
    "mins=total_min % 60\n",
    "print (f\"{total_min} mins is equal to {hours} hours and {mins} mins.\")"
   ]
  },
  {
   "cell_type": "markdown",
   "id": "511e8a1f-e05c-448b-9ab0-2fe50ba82c42",
   "metadata": {},
   "source": [
    "## Author\n",
    "Deepak Seetharama Naik"
   ]
  }
 ],
 "metadata": {
  "kernelspec": {
   "display_name": "Python 3 (ipykernel)",
   "language": "python",
   "name": "python3"
  },
  "language_info": {
   "codemirror_mode": {
    "name": "ipython",
    "version": 3
   },
   "file_extension": ".py",
   "mimetype": "text/x-python",
   "name": "python",
   "nbconvert_exporter": "python",
   "pygments_lexer": "ipython3",
   "version": "3.12.7"
  }
 },
 "nbformat": 4,
 "nbformat_minor": 5
}
